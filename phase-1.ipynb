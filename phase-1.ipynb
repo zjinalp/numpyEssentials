{
 "cells": [
  {
   "cell_type": "markdown",
   "metadata": {},
   "source": [
    "## Numpy Array and basics\n",
    " "
   ]
  },
  {
   "cell_type": "code",
   "execution_count": 1,
   "metadata": {},
   "outputs": [],
   "source": [
    "import numpy as np"
   ]
  },
  {
   "cell_type": "markdown",
   "metadata": {},
   "source": [
    "##### Check the vesion of numpy"
   ]
  },
  {
   "cell_type": "code",
   "execution_count": 25,
   "metadata": {},
   "outputs": [
    {
     "name": "stdout",
     "output_type": "stream",
     "text": [
      "2.2.4\n"
     ]
    }
   ],
   "source": [
    "#check the vesion of numpy\n",
    "print(np.__version__)"
   ]
  },
  {
   "cell_type": "markdown",
   "metadata": {},
   "source": [
    "#### creating array "
   ]
  },
  {
   "cell_type": "code",
   "execution_count": 21,
   "metadata": {},
   "outputs": [
    {
     "name": "stdout",
     "output_type": "stream",
     "text": [
      "[1 2 3 4 5 6 7]\n",
      "[[ 1  2  3  4]\n",
      " [55 99 87 24]]\n"
     ]
    }
   ],
   "source": [
    "arr_1d = np.array([1,2,3,4,5,6,7])\n",
    "print(arr_1d)\n",
    "\n",
    "arr_2d = np.array([[1,2,3,4],[55,99,87,24]])\n",
    "print(arr_2d)"
   ]
  },
  {
   "cell_type": "markdown",
   "metadata": {},
   "source": [
    "#### List VS Numpy Array"
   ]
  },
  {
   "cell_type": "code",
   "execution_count": 22,
   "metadata": {},
   "outputs": [
    {
     "name": "stdout",
     "output_type": "stream",
     "text": [
      "python list multiplication :  [1, 2, 3, 4, 5, 6, 7, 1, 2, 3, 4, 5, 6, 7]\n",
      "python larrayist multiplication :  [2 4 6 8]\n",
      "\n",
      " list operation time :  0.11574769020080566\n",
      "\n",
      " np Array operation time :  0.005826234817504883\n"
     ]
    }
   ],
   "source": [
    "py_list = [1,2,3,4,5,6,7]\n",
    "print(\"python list multiplication : \", py_list * 2) #\n",
    "\n",
    "np_arr = np.array([1,2,3,4]) # this is matrix so element wise multiplication\n",
    "print(\"python larrayist multiplication : \", np_arr * 2) #here 2 is scaler bcz constant ke sath multiply haii\n",
    "\n",
    "import time\n",
    "start = time.time()\n",
    "python_list = [i*2 for i in range(1000000)]\n",
    "print(\"\\n list operation time : \", time.time() - start)\n",
    "\n",
    "start = time.time()\n",
    "np_array = np.arange(1000000) * 2\n",
    "print(\"\\n np Array operation time : \", time.time() - start)"
   ]
  },
  {
   "cell_type": "markdown",
   "metadata": {},
   "source": [
    "#### Array fromn scratch "
   ]
  },
  {
   "cell_type": "code",
   "execution_count": 23,
   "metadata": {},
   "outputs": [
    {
     "name": "stdout",
     "output_type": "stream",
     "text": [
      "Zeros : \n",
      " [[0. 0. 0.]\n",
      " [0. 0. 0.]\n",
      " [0. 0. 0.]]\n",
      "ones : \n",
      " [[1. 1. 1. 1.]\n",
      " [1. 1. 1. 1.]\n",
      " [1. 1. 1. 1.]\n",
      " [1. 1. 1. 1.]]\n",
      "full : \n",
      " [[3 3 3 3 3]\n",
      " [3 3 3 3 3]\n",
      " [3 3 3 3 3]\n",
      " [3 3 3 3 3]\n",
      " [3 3 3 3 3]]\n",
      "randomness : \n",
      " [[0.2983462  0.80303808]\n",
      " [0.35956911 0.62430572]]\n",
      "sequence : \n",
      " [ 0  2  4  6  8 10]\n"
     ]
    }
   ],
   "source": [
    "zeros = np.zeros((3,3))\n",
    "print(\"Zeros : \\n\", zeros)\n",
    "\n",
    "ones = np.ones((4,4))\n",
    "print(\"ones : \\n\", ones)\n",
    "\n",
    "full = np.full((5,5),3)\n",
    "print(\"full : \\n\", full)\n",
    "\n",
    "randomness = np.random.random((2,2))\n",
    "print(\"randomness : \\n\", randomness)\n",
    "\n",
    "sequence = np.arange(0,11,2)\n",
    "print(\"sequence : \\n\", sequence)\n"
   ]
  },
  {
   "cell_type": "markdown",
   "metadata": {},
   "source": [
    "#### Vector,Matrix,Tesnsor"
   ]
  },
  {
   "cell_type": "code",
   "execution_count": null,
   "metadata": {},
   "outputs": [
    {
     "name": "stdout",
     "output_type": "stream",
     "text": [
      "vector :  [1 2 3]\n",
      "matrix :  [[1 2 3]\n",
      " [4 5 6]]\n",
      "tensor :  [[[1 2 3]\n",
      "  [4 5 6]]\n",
      "\n",
      " [[5 9 7]\n",
      "  [6 8 1]]]\n"
     ]
    }
   ],
   "source": [
    "#One dimension array\n",
    "vector = np.array([1,2,3])\n",
    "print(\"vector : \",vector)\n",
    "\n",
    "#2D array called matrix\n",
    "matrix = np.array([[1,2,3],\n",
    "                   [4,5,6]])\n",
    "print(\"matrix : \",matrix)\n",
    "\n",
    "#multiple dimension called tensor\n",
    "tensor = np.array([[[1,2,3],[4,5,6]],\n",
    "                   [[5,9,7],[6,8,1]]])\n",
    "print(\"tensor : \",tensor)\n",
    "\n"
   ]
  },
  {
   "cell_type": "markdown",
   "metadata": {},
   "source": [
    "#### Array Properties"
   ]
  },
  {
   "cell_type": "code",
   "execution_count": 29,
   "metadata": {},
   "outputs": [
    {
     "name": "stdout",
     "output_type": "stream",
     "text": [
      "Shape :  (2, 3)\n",
      "Dimension :  2\n",
      "Size :  6\n",
      "Data Type :  int64\n",
      "Data Type :  float64\n"
     ]
    }
   ],
   "source": [
    "arr = np.array([[1,2,3],[4,5,6]])\n",
    "arr1 = np.array([[1,2,3],[4,5,6.9]])\n",
    "print(\"Shape : \", arr.shape)\n",
    "print(\"Dimension : \", arr.ndim)\n",
    "print(\"Size : \", arr.size)\n",
    "print(\"Data Type : \", arr.dtype)\n",
    "print(\"Data Type : \", arr1.dtype)\n"
   ]
  },
  {
   "cell_type": "markdown",
   "metadata": {},
   "source": [
    "#### Array Reshaping --> Reshape,Flatten, Ravel,Transpose"
   ]
  },
  {
   "cell_type": "code",
   "execution_count": 35,
   "metadata": {},
   "outputs": [
    {
     "name": "stdout",
     "output_type": "stream",
     "text": [
      "Array :  [ 0  1  2  3  4  5  6  7  8  9 10 11]\n",
      "Reshaped Array :  [[ 0  1  2  3]\n",
      " [ 4  5  6  7]\n",
      " [ 8  9 10 11]]\n",
      "Flattened Array :  [ 0  1  2  3  4  5  6  7  8  9 10 11]\n",
      "Raveled Array :  [ 0  1  2  3  4  5  6  7  8  9 10 11]\n",
      "transposed Array :  [[ 0  4  8]\n",
      " [ 1  5  9]\n",
      " [ 2  6 10]\n",
      " [ 3  7 11]]\n"
     ]
    }
   ],
   "source": [
    "arr = np.arange(12)\n",
    "print(\"Array : \",arr)\n",
    "\n",
    "reshaped = arr.reshape((3,4))\n",
    "print(\"Reshaped Array : \",reshaped)\n",
    "\n",
    "# flatten returns copy of Flattened array\n",
    "Flattened = reshaped.flatten()\n",
    "print(\"Flattened Array : \",Flattened)\n",
    "\n",
    "# Ravel returns view of original array\n",
    "raveled = reshaped.ravel()\n",
    "print(\"Raveled Array : \",raveled)\n",
    "\n",
    "transpose = reshaped.T\n",
    "print(\"transposed Array : \",transpose)\n"
   ]
  },
  {
   "cell_type": "code",
   "execution_count": 6,
   "metadata": {},
   "outputs": [
    {
     "name": "stdout",
     "output_type": "stream",
     "text": [
      "[[1. 0. 0. 0.]\n",
      " [0. 1. 0. 0.]\n",
      " [0. 0. 1. 0.]\n",
      " [0. 0. 0. 1.]]\n",
      "[[ 1.23  5.89]\n",
      " [ 7.99 98.32]]\n",
      "float64\n",
      "changed_type is  int64\n"
     ]
    }
   ],
   "source": [
    "#identify matrices\n",
    "\n",
    "identity = np.eye(4)\n",
    "print(identity)\n",
    "\n",
    "\n",
    "# change DATA TYPE\n",
    "\n",
    "arr = np.array([[1.23,5.89],[7.99,98.32]])\n",
    "print(arr)\n",
    "print(arr.dtype)\n",
    "changed_type = arr.astype(int)\n",
    "print(\"changed_type is \", changed_type.dtype)"
   ]
  },
  {
   "cell_type": "code",
   "execution_count": null,
   "metadata": {},
   "outputs": [],
   "source": []
  }
 ],
 "metadata": {
  "kernelspec": {
   "display_name": "venv",
   "language": "python",
   "name": "python3"
  },
  "language_info": {
   "codemirror_mode": {
    "name": "ipython",
    "version": 3
   },
   "file_extension": ".py",
   "mimetype": "text/x-python",
   "name": "python",
   "nbconvert_exporter": "python",
   "pygments_lexer": "ipython3",
   "version": "3.13.2"
  }
 },
 "nbformat": 4,
 "nbformat_minor": 2
}
