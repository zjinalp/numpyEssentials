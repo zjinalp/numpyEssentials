{
 "cells": [
  {
   "cell_type": "markdown",
   "id": "0b787b2d",
   "metadata": {},
   "source": [
    "#### Advance operation with Business Example"
   ]
  },
  {
   "cell_type": "code",
   "execution_count": 1,
   "id": "4e2e7f74",
   "metadata": {},
   "outputs": [],
   "source": [
    "import numpy as np\n",
    "import matplotlib.pyplot as plt"
   ]
  },
  {
   "cell_type": "code",
   "execution_count": 2,
   "id": "f66a2201",
   "metadata": {},
   "outputs": [],
   "source": [
    "# Data structure: [restaurant_id, 2021, 2022, 2023, 2024]\n",
    "sales_data = np.array([\n",
    "    [1, 150000, 180000, 220000, 250000],  # Paradise Biryani\n",
    "    [2, 120000, 140000, 160000, 190000],  # Beijing Bites\n",
    "    [3, 200000, 230000, 260000, 300000],  # Pizza Hub\n",
    "    [4, 180000, 210000, 240000, 270000],  # Burger Point\n",
    "    [5, 160000, 185000, 205000, 230000]   # Chai Point\n",
    "])"
   ]
  },
  {
   "cell_type": "code",
   "execution_count": 3,
   "id": "bf6cdc49",
   "metadata": {},
   "outputs": [
    {
     "name": "stdout",
     "output_type": "stream",
     "text": [
      "====== Zomato Sales Analysis =====\n",
      "\n",
      " Sales shape (5, 5)\n",
      "\n",
      " Sample data for 1st 3 restaurant : \n",
      " [[     1 150000 180000 220000 250000]\n",
      " [     2 120000 140000 160000 190000]\n",
      " [     3 200000 230000 260000 300000]]\n",
      "\n",
      " Sample data for 1st 3 restaurant : \n",
      " [[150000 180000 220000 250000]\n",
      " [120000 140000 160000 190000]\n",
      " [200000 230000 260000 300000]\n",
      " [180000 210000 240000 270000]\n",
      " [160000 185000 205000 230000]]\n"
     ]
    }
   ],
   "source": [
    "print(\"====== Zomato Sales Analysis =====\")\n",
    "print(\"\\n Sales shape\", sales_data.shape)\n",
    "\n",
    "# qs --> give me the data for 1st 3 restaurant\n",
    "print(\"\\n Sample data for 1st 3 restaurant : \\n\", sales_data[:3])\n",
    "print(\"\\n Sample data for 1st 3 restaurant : \\n\", sales_data[:,1:])"
   ]
  },
  {
   "cell_type": "code",
   "execution_count": null,
   "id": "07e795e5",
   "metadata": {},
   "outputs": [
    {
     "name": "stdout",
     "output_type": "stream",
     "text": [
      "Total sales per year : \n",
      "[     15  810000  945000 1085000 1240000]\n",
      "[ 810000  945000 1085000 1240000]\n"
     ]
    }
   ],
   "source": [
    "# Total sales per year\n",
    "print(\"Total sales per year : \")\n",
    "print(np.sum(sales_data, axis = 0)) # axis 0 means columns\n",
    "\n",
    "yearly_total = np.sum(sales_data[:, 1:], axis = 0) \n",
    "print(yearly_total)"
   ]
  },
  {
   "cell_type": "code",
   "execution_count": 21,
   "id": "fceeb249",
   "metadata": {},
   "outputs": [
    {
     "name": "stdout",
     "output_type": "stream",
     "text": [
      "===========================================\n",
      "Minimum sales per restaurant : \n",
      "===========================================\n",
      "[[     1 150000 180000 220000 250000]\n",
      " [     2 120000 140000 160000 190000]\n",
      " [     3 200000 230000 260000 300000]\n",
      " [     4 180000 210000 240000 270000]\n",
      " [     5 160000 185000 205000 230000]]\n",
      "===========================================\n",
      "[150000 120000 200000 180000 160000]\n"
     ]
    }
   ],
   "source": [
    "# Minimum sales per restaurant\n",
    "print(\"===========================================\")\n",
    "print(\"Minimum sales per restaurant : \")\n",
    "print(\"===========================================\")\n",
    "print(sales_data)\n",
    "print(\"===========================================\")\n",
    "min_sales = np.min(sales_data[:,1:], axis = 1) # axis 1 means row wise\n",
    "print(min_sales)"
   ]
  },
  {
   "cell_type": "code",
   "execution_count": 28,
   "id": "ea2184f1",
   "metadata": {},
   "outputs": [
    {
     "name": "stdout",
     "output_type": "stream",
     "text": [
      "===========================================\n",
      "[restaurant_id, 2021, 2022, 2023, 2024]\n",
      "[Paradise Biryani, Beijing Bites, Pizza Hub, Burger Point, Chai point]\n",
      "===========================================\n",
      "Maximum sales per restaurant : \n",
      "===========================================\n",
      "[[     1 150000 180000 220000 250000]\n",
      " [     2 120000 140000 160000 190000]\n",
      " [     3 200000 230000 260000 300000]\n",
      " [     4 180000 210000 240000 270000]\n",
      " [     5 160000 185000 205000 230000]]\n",
      "===========================================\n",
      "[200000 230000 260000 300000]\n"
     ]
    }
   ],
   "source": [
    "# Maximum sales per year\n",
    "print(\"===========================================\")\n",
    "print(\"[restaurant_id, 2021, 2022, 2023, 2024]\")\n",
    "print(\"[Paradise Biryani, Beijing Bites, Pizza Hub, Burger Point, Chai point]\")\n",
    "print(\"===========================================\")\n",
    "print(\"Maximum sales per restaurant : \")\n",
    "print(\"===========================================\")\n",
    "print(sales_data)\n",
    "print(\"===========================================\")\n",
    "max_sales = np.max(sales_data[:,1:], axis = 0)\n",
    "print(max_sales)"
   ]
  },
  {
   "cell_type": "code",
   "execution_count": 30,
   "id": "9ed28f25",
   "metadata": {},
   "outputs": [
    {
     "name": "stdout",
     "output_type": "stream",
     "text": [
      "===========================================\n",
      "[restaurant_id, 2021, 2022, 2023, 2024]\n",
      "[Paradise Biryani, Beijing Bites, Pizza Hub, Burger Point, Chai point]\n",
      "===========================================\n",
      "Average sales per restaurant : \n",
      "===========================================\n",
      "[[     1 150000 180000 220000 250000]\n",
      " [     2 120000 140000 160000 190000]\n",
      " [     3 200000 230000 260000 300000]\n",
      " [     4 180000 210000 240000 270000]\n",
      " [     5 160000 185000 205000 230000]]\n",
      "===========================================\n",
      "[200000. 152500. 247500. 225000. 195000.]\n"
     ]
    }
   ],
   "source": [
    "# Average sales per restaurant\n",
    "print(\"===========================================\")\n",
    "print(\"[restaurant_id, 2021, 2022, 2023, 2024]\")\n",
    "print(\"[Paradise Biryani, Beijing Bites, Pizza Hub, Burger Point, Chai point]\")\n",
    "print(\"===========================================\")\n",
    "print(\"Average sales per restaurant : \")\n",
    "print(\"===========================================\")\n",
    "print(sales_data)\n",
    "print(\"===========================================\")\n",
    "avg_sales = np.mean(sales_data[:,1:], axis = 1)\n",
    "print(avg_sales)"
   ]
  },
  {
   "cell_type": "code",
   "execution_count": 38,
   "id": "9e5b902e",
   "metadata": {},
   "outputs": [
    {
     "name": "stdout",
     "output_type": "stream",
     "text": [
      "===========================================\n",
      "[[     1 150000 180000 220000 250000]\n",
      " [     2 120000 140000 160000 190000]\n",
      " [     3 200000 230000 260000 300000]\n",
      " [     4 180000 210000 240000 270000]\n",
      " [     5 160000 185000 205000 230000]]\n",
      "===========================================\n",
      "[[150000 330000 550000 800000]\n",
      " [120000 260000 420000 610000]\n",
      " [200000 430000 690000 990000]\n",
      " [180000 390000 630000 900000]\n",
      " [160000 345000 550000 780000]]\n",
      "===========================================\n",
      "Average Cumilative Sales :  [162000. 351000. 568000. 816000.]\n",
      "===========================================\n"
     ]
    },
    {
     "data": {
      "image/png": "[encoded data removed]",
      "text/plain": [
       "<Figure size 800x600 with 1 Axes>"
      ]
     },
     "metadata": {},
     "output_type": "display_data"
    }
   ],
   "source": [
    "# cumilative sales --> are used to display the total sum of data as it grows with time\n",
    "# cumilative sales here is by restaurant\n",
    "print(\"===========================================\")\n",
    "print(sales_data)\n",
    "print(\"===========================================\")\n",
    "cumsum = np.cumsum(sales_data[:,1:], axis = 1)\n",
    "print(cumsum)\n",
    "print(\"===========================================\")\n",
    "print(\"Average Cumilative Sales : \",np.mean(cumsum, axis = 0))\n",
    "print(\"===========================================\")\n",
    "plt.figure(figsize=(8,6))\n",
    "plt.plot(np.mean(cumsum, axis = 0))\n",
    "plt.title(\"Average Cumilative Sales\")\n",
    "plt.xlabel(\"Years\")\n",
    "plt.ylabel(\"Sales\")\n",
    "plt.grid(True)\n",
    "plt.show()\n",
    "\n"
   ]
  },
  {
   "cell_type": "code",
   "execution_count": 44,
   "id": "c8175954",
   "metadata": {},
   "outputs": [
    {
     "name": "stdout",
     "output_type": "stream",
     "text": [
      "\n",
      " sum :  [ 7  9 11 13 15]\n",
      "\n",
      " multiplication :  [ 6 14 24 36 50]\n",
      "\n",
      " Dot product :  130\n",
      "\n",
      " angle :  0.26554161733900966\n"
     ]
    }
   ],
   "source": [
    "vector1 = np.array([1,2,3,4,5])\n",
    "vector2 = np.array([6,7,8,9,10])\n",
    "\n",
    "print(\"\\n sum : \", (vector1 + vector2))\n",
    "print(\"\\n multiplication : \", (vector1 * vector2))\n",
    "print(\"\\n Dot product : \", np.dot(vector1,vector2))\n",
    "angle = np.arccos( np.dot(vector1,vector2) / ( np.linalg.norm(vector1) * np.linalg.norm(vector2)))\n",
    "print(\"\\n angle : \",angle)"
   ]
  },
  {
   "cell_type": "code",
   "execution_count": 46,
   "id": "b0202314",
   "metadata": {},
   "outputs": [
    {
     "name": "stdout",
     "output_type": "stream",
     "text": [
      "['BIRYANI' 'CHINESE' 'PIZZA' 'BURGER' 'CAFE']\n"
     ]
    }
   ],
   "source": [
    "restaurant_types = np.array(['biryani', 'chinese', 'pizza', 'burger', 'cafe'])\n",
    "vectorized_upper = np.vectorize(str.upper)\n",
    "# converts into upper case\n",
    "print(vectorized_upper(restaurant_types))"
   ]
  },
  {
   "cell_type": "markdown",
   "id": "333a1f80",
   "metadata": {},
   "source": [
    "#### Broadcasting"
   ]
  },
  {
   "cell_type": "code",
   "execution_count": null,
   "id": "ba0df045",
   "metadata": {},
   "outputs": [
    {
     "name": "stdout",
     "output_type": "stream",
     "text": [
      "===========================================\n",
      "[[150000 180000 220000 250000]\n",
      " [120000 140000 160000 190000]\n",
      " [200000 230000 260000 300000]\n",
      " [180000 210000 240000 270000]\n",
      " [160000 185000 205000 230000]]\n",
      "===========================================\n",
      "===========================================\n",
      "[[12500.         15000.         18333.33333333 20833.33333333]\n",
      " [10000.         11666.66666667 13333.33333333 15833.33333333]\n",
      " [16666.66666667 19166.66666667 21666.66666667 25000.        ]\n",
      " [15000.         17500.         20000.         22500.        ]\n",
      " [13333.33333333 15416.66666667 17083.33333333 19166.66666667]]\n",
      "===========================================\n"
     ]
    }
   ],
   "source": [
    "# Broadcasting\n",
    "print(\"===========================================\")\n",
    "monthly_sales = sales_data[:,1:]\n",
    "print(monthly_sales)\n",
    "print(\"===========================================\")\n",
    "monthly_sales = sales_data[:,1:] / 12 \n",
    "print(monthly_sales)\n",
    "print(\"===========================================\")"
   ]
  },
  {
   "cell_type": "markdown",
   "id": "c8e54243",
   "metadata": {},
   "source": [
    "#### Insert function --> add element at specific position"
   ]
  },
  {
   "cell_type": "code",
   "execution_count": 27,
   "id": "20b5a6e5",
   "metadata": {},
   "outputs": [
    {
     "name": "stdout",
     "output_type": "stream",
     "text": [
      "===========================================\n",
      "arr [1 2 3 4 5]\n",
      "===========================================\n",
      "new_arr [1 2 3 9 4 5]\n",
      "===========================================\n",
      "arr_2d (2, 5)\n",
      "===========================================\n",
      "Insert a new row-->axis=0 in 2d array\n",
      "new_arr2d [[9 7 3 4 8]\n",
      " [1 2 3 4 5]\n",
      " [1 2 3 4 5]]\n",
      "===========================================\n",
      "Insert a new column-->axis=1 in 2d array\n",
      "new_arr2d [[1 2 3 9 4 5]\n",
      " [1 2 3 8 4 5]]\n",
      "===========================================\n"
     ]
    }
   ],
   "source": [
    "print(\"===========================================\")\n",
    "arr = np.array([1,2,3,4,5])\n",
    "print(\"arr\",arr)\n",
    "print(\"===========================================\")\n",
    "new_arr = np.insert(arr,3,9)\n",
    "print(\"new_arr\",new_arr)\n",
    "print(\"===========================================\")\n",
    "arr_2d = np.array([[1,2,3,4,5],[1,2,3,4,5]])\n",
    "print(\"arr_2d\",arr_2d.shape)\n",
    "print(\"===========================================\")\n",
    "print(\"Insert a new row-->axis=0 in 2d array\")\n",
    "new_arr2d = np.insert(arr_2d,0,[9,7,3,4,8],axis=0)\n",
    "print(\"new_arr2d\",new_arr2d)\n",
    "print(\"===========================================\")\n",
    "\n",
    "print(\"Insert a new column-->axis=1 in 2d array\")\n",
    "new_arr2d = np.insert(arr_2d,3,[9,8],axis=1)\n",
    "print(\"new_arr2d\",new_arr2d)\n",
    "print(\"===========================================\")"
   ]
  },
  {
   "cell_type": "markdown",
   "id": "409a55b6",
   "metadata": {},
   "source": [
    "#### append() --> add element at the end of the array"
   ]
  },
  {
   "cell_type": "code",
   "execution_count": 30,
   "id": "b9b3a251",
   "metadata": {},
   "outputs": [
    {
     "name": "stdout",
     "output_type": "stream",
     "text": [
      "[1 2 3 4 5]\n",
      "[ 1  2  3  4  5 98 88 77]\n"
     ]
    }
   ],
   "source": [
    "arrr = np.array([1,2,3,4,5])\n",
    "print(arrr)\n",
    "arr_1 = np.append(arrr,[98,88,77])\n",
    "print(arr_1)"
   ]
  },
  {
   "cell_type": "markdown",
   "id": "9d89cd66",
   "metadata": {},
   "source": [
    "#### Handling missing values --> isnan(), nan_to_num(), isinf()"
   ]
  },
  {
   "cell_type": "code",
   "execution_count": null,
   "id": "8f5e551d",
   "metadata": {},
   "outputs": [
    {
     "name": "stdout",
     "output_type": "stream",
     "text": [
      "[nan  2. nan  4.  5.]\n"
     ]
    }
   ],
   "source": [
    "p = np.array([np.nan,2,np.nan,4,5])\n",
    "print(p)\n",
    "\n"
   ]
  },
  {
   "cell_type": "markdown",
   "id": "96edb7e8",
   "metadata": {},
   "source": [
    "#### nan_to_num()"
   ]
  },
  {
   "cell_type": "code",
   "execution_count": 33,
   "id": "de6766ad",
   "metadata": {},
   "outputs": [
    {
     "name": "stdout",
     "output_type": "stream",
     "text": [
      "[nan  2. nan  4.  5.]\n",
      "[100.   2. 100.   4.   5.]\n"
     ]
    }
   ],
   "source": [
    "p = np.array([np.nan,2,np.nan,4,5])\n",
    "print(p)\n",
    "\n",
    "cleaned_p = np.nan_to_num(p,nan=100)\n",
    "print(cleaned_p)"
   ]
  },
  {
   "cell_type": "markdown",
   "id": "3e4b1e43",
   "metadata": {},
   "source": [
    "#### isinf()"
   ]
  },
  {
   "cell_type": "code",
   "execution_count": 38,
   "id": "5f71e072",
   "metadata": {},
   "outputs": [
    {
     "name": "stdout",
     "output_type": "stream",
     "text": [
      "[ True False  True False False]\n",
      "[99.  2. 55.  4.  5.]\n"
     ]
    }
   ],
   "source": [
    "pqr = np.array([np.inf,2,-np.inf,4,5])\n",
    "print(np.isinf(pqr))\n",
    "\n",
    "pq = np.nan_to_num(pqr,posinf=99, neginf=55)\n",
    "print(pq)"
   ]
  },
  {
   "cell_type": "code",
   "execution_count": null,
   "id": "277c3476",
   "metadata": {},
   "outputs": [],
   "source": []
  }
 ],
 "metadata": {
  "kernelspec": {
   "display_name": "venv",
   "language": "python",
   "name": "python3"
  },
  "language_info": {
   "codemirror_mode": {
    "name": "ipython",
    "version": 3
   },
   "file_extension": ".py",
   "mimetype": "text/x-python",
   "name": "python",
   "nbconvert_exporter": "python",
   "pygments_lexer": "ipython3",
   "version": "3.13.2"
  }
 },
 "nbformat": 4,
 "nbformat_minor": 5
}
