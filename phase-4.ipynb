{
 "cells": [
  {
   "cell_type": "code",
   "execution_count": 8,
   "id": "a9e6f893",
   "metadata": {},
   "outputs": [],
   "source": [
    "import numpy as np\n",
    "import matplotlib.pyplot as plt"
   ]
  },
  {
   "cell_type": "code",
   "execution_count": 7,
   "id": "a9d28a1a",
   "metadata": {},
   "outputs": [
    {
     "name": "stdout",
     "output_type": "stream",
     "text": [
      "[[55  8 77]\n",
      " [69 23 88]]\n",
      "[[0.50882932 0.99090223 0.02778595]\n",
      " [0.41445978 0.72119962 0.45174536]\n",
      " [0.55891511 0.39683472 0.03606623]]\n",
      "[[1. 1. 1. 1. 1.]\n",
      " [1. 1. 1. 1. 1.]\n",
      " [1. 1. 1. 1. 1.]\n",
      " [1. 1. 1. 1. 1.]\n",
      " [1. 1. 1. 1. 1.]]\n"
     ]
    }
   ],
   "source": [
    "a = np.array([[55,8,77],[69,23,88]])\n",
    "b = np.random.random((3,3))\n",
    "c = np.ones((5,5))\n",
    "\n",
    "print(a)\n",
    "print(b)\n",
    "print(c)"
   ]
  },
  {
   "cell_type": "markdown",
   "id": "9564e84a",
   "metadata": {},
   "source": [
    "#### save and load files "
   ]
  },
  {
   "cell_type": "code",
   "execution_count": 10,
   "id": "a583fd78",
   "metadata": {},
   "outputs": [],
   "source": [
    "n = np.save(\"a.npy\", a)\n",
    "n = np.save(\"b.npy\", b)\n",
    "n = np.save(\"c.npy\", c)"
   ]
  },
  {
   "cell_type": "code",
   "execution_count": 13,
   "id": "b4590c43",
   "metadata": {},
   "outputs": [
    {
     "name": "stdout",
     "output_type": "stream",
     "text": [
      "[[55  8 77]\n",
      " [69 23 88]]\n",
      "[[0.50882932 0.99090223 0.02778595]\n",
      " [0.41445978 0.72119962 0.45174536]\n",
      " [0.55891511 0.39683472 0.03606623]]\n",
      "[[1. 1. 1. 1. 1.]\n",
      " [1. 1. 1. 1. 1.]\n",
      " [1. 1. 1. 1. 1.]\n",
      " [1. 1. 1. 1. 1.]\n",
      " [1. 1. 1. 1. 1.]]\n"
     ]
    }
   ],
   "source": [
    "print(np.load(\"a.npy\"))\n",
    "print(np.load(\"b.npy\"))\n",
    "print(np.load(\"c.npy\"))"
   ]
  },
  {
   "cell_type": "markdown",
   "id": "27fb2305",
   "metadata": {},
   "source": [
    "#### dark mode conversion"
   ]
  },
  {
   "cell_type": "code",
   "execution_count": null,
   "id": "5b27795b",
   "metadata": {},
   "outputs": [],
   "source": []
  }
 ],
 "metadata": {
  "kernelspec": {
   "display_name": "venv",
   "language": "python",
   "name": "python3"
  },
  "language_info": {
   "codemirror_mode": {
    "name": "ipython",
    "version": 3
   },
   "file_extension": ".py",
   "mimetype": "text/x-python",
   "name": "python",
   "nbconvert_exporter": "python",
   "pygments_lexer": "ipython3",
   "version": "3.13.2"
  }
 },
 "nbformat": 4,
 "nbformat_minor": 5
}
