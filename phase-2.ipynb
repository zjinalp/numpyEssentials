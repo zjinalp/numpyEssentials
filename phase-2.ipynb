{
 "cells": [
  {
   "cell_type": "markdown",
   "id": "0e6c8e98",
   "metadata": {},
   "source": [
    "### Operations on NUMPY Array\n"
   ]
  },
  {
   "cell_type": "code",
   "execution_count": 2,
   "id": "c10e96da",
   "metadata": {},
   "outputs": [],
   "source": [
    "import numpy as np"
   ]
  },
  {
   "cell_type": "markdown",
   "id": "846399aa",
   "metadata": {},
   "source": [
    "#### Basic Slicing 1D"
   ]
  },
  {
   "cell_type": "code",
   "execution_count": 3,
   "id": "ebdfab77",
   "metadata": {},
   "outputs": [
    {
     "name": "stdout",
     "output_type": "stream",
     "text": [
      "Basic Slicing  [ 1  2  3  4  5  6  7  8  9 10]\n",
      "Basic Slicing  [3 4 5 6 7]\n",
      "Basic Slicing with steps  [2 4 6 8]\n",
      "Basic Slicing with negative slicing  5\n"
     ]
    }
   ],
   "source": [
    "arr = np.array([1,2,3,4,5,6,7,8,9,10])\n",
    "print(\"Basic Slicing \",arr)\n",
    "print(\"Basic Slicing \",arr[2:7])\n",
    "print(\"Basic Slicing with steps \",arr[1:8:2])\n",
    "print(\"Basic Slicing with negative slicing \",arr[-6])"
   ]
  },
  {
   "cell_type": "markdown",
   "id": "1a530d7d",
   "metadata": {},
   "source": [
    "#### Slicing 2D array"
   ]
  },
  {
   "cell_type": "code",
   "execution_count": 6,
   "id": "a43b1ae0",
   "metadata": {},
   "outputs": [
    {
     "name": "stdout",
     "output_type": "stream",
     "text": [
      "[[1 2 3]\n",
      " [4 5 6]\n",
      " [7 8 9]]\n",
      "Specific Element  6\n",
      "Entire row  [7 8 9]\n",
      "Entire column  [2 5 8]\n"
     ]
    }
   ],
   "source": [
    "arr_2d = np.array([[1,2,3],[4,5,6],[7,8,9]])\n",
    "print(arr_2d)\n",
    "print(\"Specific Element \",arr_2d[1,2])\n",
    "print(\"Entire row \",arr_2d[2])\n",
    "print(\"Entire column \",arr_2d[:,1])\n"
   ]
  },
  {
   "cell_type": "markdown",
   "id": "b2958e65",
   "metadata": {},
   "source": [
    "#### Sorting 1D"
   ]
  },
  {
   "cell_type": "code",
   "execution_count": 23,
   "id": "6a738842",
   "metadata": {},
   "outputs": [
    {
     "name": "stdout",
     "output_type": "stream",
     "text": [
      "Basic Array  [1 1 2 3 4 5 6 9]\n"
     ]
    }
   ],
   "source": [
    "unsorted = np.array([3,1,4,1,5,9,2,6])\n",
    "print(\"Basic Array \",np.sort(unsorted))"
   ]
  },
  {
   "cell_type": "markdown",
   "id": "b98abd19",
   "metadata": {},
   "source": [
    "#### Sorting 2D"
   ]
  },
  {
   "cell_type": "code",
   "execution_count": 10,
   "id": "fed2679a",
   "metadata": {},
   "outputs": [
    {
     "name": "stdout",
     "output_type": "stream",
     "text": [
      "[[3 1]\n",
      " [1 2]\n",
      " [2 3]]\n",
      "2D array axis 0 --> column [[1 1]\n",
      " [2 2]\n",
      " [3 3]]\n",
      "2D array axis 1 --> row [[1 3]\n",
      " [1 2]\n",
      " [2 3]]\n"
     ]
    }
   ],
   "source": [
    "arr_2d_unsorted = np.array([[3,1],[1,2],[2,3]])\n",
    "print(arr_2d_unsorted)\n",
    "print(\"2D array axis 0 --> column\",np.sort(arr_2d_unsorted, axis = 0))\n",
    "print(\"2D array axis 1 --> row\",np.sort(arr_2d_unsorted, axis = 1))\n"
   ]
  },
  {
   "cell_type": "markdown",
   "id": "50676f51",
   "metadata": {},
   "source": [
    "#### Filtering Array"
   ]
  },
  {
   "cell_type": "code",
   "execution_count": null,
   "id": "d200dd51",
   "metadata": {},
   "outputs": [
    {
     "name": "stdout",
     "output_type": "stream",
     "text": [
      "Number greater than 5 [ 2  4  6  8 10]\n",
      "Number greater than 5 with mask [ 6  7  8  9 10]\n"
     ]
    }
   ],
   "source": [
    "numbers = np.array([1,2,3,4,5,6,7,8,9,10])\n",
    "even_numbers = numbers[numbers % 2 == 0]\n",
    "print(\"Number greater than 5\", even_numbers)\n",
    "\n",
    "\n",
    "# Filter with MASK --> mask is an expression which is doing evaluation\n",
    "mask = numbers>5\n",
    "print(\"Number greater than 5 with mask\",numbers[mask])"
   ]
  },
  {
   "cell_type": "markdown",
   "id": "8b2d8c66",
   "metadata": {},
   "source": [
    "#### Fancy Indexing VS np.where()"
   ]
  },
  {
   "cell_type": "code",
   "execution_count": 21,
   "id": "1c6274eb",
   "metadata": {},
   "outputs": [
    {
     "name": "stdout",
     "output_type": "stream",
     "text": [
      "[1 4 5]\n",
      "where_result --> it will give indices of the result (array([5, 6, 7, 8, 9]),)\n",
      "where_result --> it will give actual where result [ 6  7  8  9 10]\n",
      "[ 1  2  3  4  5 24 28 32 36 40]\n",
      "['false' 'false' 'false' 'false' 'false' 'true' 'true' 'true' 'true'\n",
      " 'true']\n"
     ]
    }
   ],
   "source": [
    "# indices of numbers and it will give number on that index.\n",
    "indices = [0,3,4]\n",
    "print(numbers[indices])\n",
    "\n",
    "#where\n",
    "where_result = np.where(numbers>5)\n",
    "print(\"where_result --> it will give indices of the result\", where_result) # --> it will give indices \n",
    "print(\"where_result --> it will give actual where result\",numbers[where_result])\n",
    "\n",
    "\n",
    "#condition_array\n",
    "#numbers > 5 is condition\n",
    "#numbers * 4 is what will happen if it is true\n",
    "#numbers is what will happen if it is false\n",
    "#it gives entire array with results...\n",
    "condition_array = np.where(numbers > 5, numbers * 4, numbers)\n",
    "print(condition_array)\n",
    "condition_array = np.where(numbers > 5, \"true\", \"false\")\n",
    "print(condition_array)"
   ]
  },
  {
   "cell_type": "markdown",
   "id": "127389c9",
   "metadata": {},
   "source": [
    "#### Adding and removing DATA --> concatenate, vstack,hstack"
   ]
  },
  {
   "cell_type": "code",
   "execution_count": 26,
   "id": "f123881d",
   "metadata": {},
   "outputs": [
    {
     "name": "stdout",
     "output_type": "stream",
     "text": [
      "[5 7 9]\n",
      "[1 2 3 4 5 6]\n"
     ]
    }
   ],
   "source": [
    "arr1 = np.array([1,2,3])\n",
    "arr2 = np.array([4,5,6])\n",
    "combine = arr1 + arr2\n",
    "print(combine)\n",
    "\n",
    "combined = np.concatenate((arr1,arr2))\n",
    "print(combined)"
   ]
  },
  {
   "cell_type": "markdown",
   "id": "7fb686c4",
   "metadata": {},
   "source": [
    "#### Array compatibilityyy"
   ]
  },
  {
   "cell_type": "code",
   "execution_count": 27,
   "id": "8da860c7",
   "metadata": {},
   "outputs": [
    {
     "name": "stdout",
     "output_type": "stream",
     "text": [
      "Compatibility shapes True\n"
     ]
    }
   ],
   "source": [
    "a = np.array([1,2,3])\n",
    "b = np.array([4,5,6])\n",
    "c = np.array([7,8,9])\n",
    "print(\"Compatibility shapes\", a.shape == b.shape)"
   ]
  },
  {
   "cell_type": "code",
   "execution_count": 37,
   "id": "77b507bd",
   "metadata": {},
   "outputs": [
    {
     "name": "stdout",
     "output_type": "stream",
     "text": [
      "with_new_row :  [[1 2]\n",
      " [4 5]\n",
      " [5 6]]\n"
     ]
    }
   ],
   "source": [
    "# add new row\n",
    "og = np.array([[1,2],[4,5]])\n",
    "new_row = np.array([[5,6]])\n",
    "with_new_row = np.vstack((og,new_row))\n",
    "print(\"with_new_row : \",with_new_row)\n",
    "\n"
   ]
  },
  {
   "cell_type": "code",
   "execution_count": 40,
   "id": "21080897",
   "metadata": {},
   "outputs": [
    {
     "name": "stdout",
     "output_type": "stream",
     "text": [
      "with_new_col :  [[1 2 5]\n",
      " [4 5 6]]\n"
     ]
    }
   ],
   "source": [
    "# add new column\n",
    "og_col= np.array([[1,2],[4,5]])\n",
    "new_col = np.array([[5],[6]])\n",
    "with_new_col = np.hstack((og_col,new_col))\n",
    "print(\"with_new_col : \",with_new_col)"
   ]
  },
  {
   "cell_type": "markdown",
   "id": "a5bb5dda",
   "metadata": {},
   "source": []
  },
  {
   "cell_type": "markdown",
   "id": "046efa1b",
   "metadata": {},
   "source": [
    "#### Delete operation"
   ]
  },
  {
   "cell_type": "code",
   "execution_count": 8,
   "id": "84aaf845",
   "metadata": {},
   "outputs": [
    {
     "name": "stdout",
     "output_type": "stream",
     "text": [
      "After deleting element :  [1 2 4 5]\n",
      "[[1 2 2 2 5]\n",
      " [1 2 3 4 5]]\n",
      "After deleting element in 2d array:  [[1 2 2 5]\n",
      " [1 2 3 5]]\n"
     ]
    }
   ],
   "source": [
    "arr = np.array([1,2,3,4,5])\n",
    "deleted = np.delete(arr,2)\n",
    "print(\"After deleting element : \",deleted)\n",
    "\n",
    "arr_2_d = np.array([[1,2,2,2,5],[1,2,3,4,5]])\n",
    "print(arr_2_d)\n",
    "new_2d = np.delete(arr_2_d,3,axis = 1)\n",
    "print(\"After deleting element in 2d array: \",new_2d)"
   ]
  },
  {
   "cell_type": "markdown",
   "id": "fb0f6a13",
   "metadata": {},
   "source": [
    "#### spliting "
   ]
  },
  {
   "cell_type": "code",
   "execution_count": 16,
   "id": "c1ec48b9",
   "metadata": {},
   "outputs": [
    {
     "name": "stdout",
     "output_type": "stream",
     "text": [
      "[1 2 3 4 5]\n",
      "\n",
      "normal split [array([1]), array([2]), array([3]), array([4]), array([5])]\n",
      "\n",
      " 2d array : \n",
      " [[91 28 25 27 50 88]\n",
      " [41 62 33 84 57 99]]\n",
      "\n",
      " hsplit --> column wise [array([[91, 28],\n",
      "       [41, 62]]), array([[25, 27],\n",
      "       [33, 84]]), array([[50, 88],\n",
      "       [57, 99]])]\n",
      "\n",
      " vsplit --> row wise [array([[91, 28, 25, 27, 50, 88]]), array([[41, 62, 33, 84, 57, 99]])]\n"
     ]
    }
   ],
   "source": [
    "x = np.array([1,2,3,4,5])\n",
    "print(x)\n",
    "xy = np.split(x, 5)\n",
    "print(\"\\nnormal split\",xy)\n",
    "\n",
    "\n",
    "y = np.array([[91,28,25,27,50,88],[41,62,33,84,57,99]])\n",
    "print(\"\\n 2d array : \\n\",y)\n",
    "xyy = np.hsplit(y, 3)\n",
    "print(\"\\n hsplit --> column wise\",xyy)\n",
    "yy = np.vsplit(y, 2)\n",
    "print(\"\\n vsplit --> row wise\",yy)\n",
    "\n",
    "\n"
   ]
  },
  {
   "cell_type": "code",
   "execution_count": null,
   "id": "22199832",
   "metadata": {},
   "outputs": [],
   "source": []
  }
 ],
 "metadata": {
  "kernelspec": {
   "display_name": "venv",
   "language": "python",
   "name": "python3"
  },
  "language_info": {
   "codemirror_mode": {
    "name": "ipython",
    "version": 3
   },
   "file_extension": ".py",
   "mimetype": "text/x-python",
   "name": "python",
   "nbconvert_exporter": "python",
   "pygments_lexer": "ipython3",
   "version": "3.13.2"
  }
 },
 "nbformat": 4,
 "nbformat_minor": 5
}
